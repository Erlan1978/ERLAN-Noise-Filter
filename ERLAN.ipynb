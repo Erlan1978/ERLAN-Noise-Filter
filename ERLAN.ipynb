{
 "cells": [
  {
   "cell_type": "code",
   "execution_count": 37,
   "id": "2687fe25-67db-4057-9eba-32d8110e7e7c",
   "metadata": {},
   "outputs": [
    {
     "name": "stdout",
     "output_type": "stream",
     "text": [
      "ERLAN model initialized!\n"
     ]
    }
   ],
   "source": [
    "import torch\n",
    "import torch.nn as nn\n",
    "\n",
    "class ERLAN(nn.Module):\n",
    "    def __init__(self, input_size=1, num_layers=5):\n",
    "        super(ERLAN, self).__init__()\n",
    "        self.layers = nn.ModuleList([nn.Linear(input_size, input_size) for _ in range(num_layers)])\n",
    "        self.activation = nn.ReLU()\n",
    "        self.dropout = nn.Dropout(0.1)\n",
    "    \n",
    "    def forward(self, x):\n",
    "        for layer in self.layers:\n",
    "            x = self.activation(layer(x))\n",
    "            x = self.dropout(x)\n",
    "        return x\n",
    "\n",
    "if __name__ == \"__main__\":\n",
    "    model = ERLAN(input_size=1, num_layers=5)\n",
    "    print(\"ERLAN model initialized!\")"
   ]
  },
  {
   "cell_type": "code",
   "execution_count": null,
   "id": "c78161b6-5c26-4ff0-9351-91d6f4d748bf",
   "metadata": {},
   "outputs": [],
   "source": []
  }
 ],
 "metadata": {
  "kernelspec": {
   "display_name": "Python 3 (ipykernel)",
   "language": "python",
   "name": "python3"
  },
  "language_info": {
   "codemirror_mode": {
    "name": "ipython",
    "version": 3
   },
   "file_extension": ".py",
   "mimetype": "text/x-python",
   "name": "python",
   "nbconvert_exporter": "python",
   "pygments_lexer": "ipython3",
   "version": "3.12.4"
  }
 },
 "nbformat": 4,
 "nbformat_minor": 5
}
